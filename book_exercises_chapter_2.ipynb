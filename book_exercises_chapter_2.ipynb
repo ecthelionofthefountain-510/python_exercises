{
 "cells": [
  {
   "cell_type": "markdown",
   "id": "cca97204",
   "metadata": {},
   "source": [
    "### Uppgift 1\n",
    "Adderar två tal och skriver ut resultatet i variabeln `my_result`."
   ]
  },
  {
   "cell_type": "code",
   "execution_count": 1,
   "id": "b4de4784",
   "metadata": {},
   "outputs": [
    {
     "name": "stdout",
     "output_type": "stream",
     "text": [
      "8\n"
     ]
    }
   ],
   "source": [
    "num1 = 5\n",
    "num2 = 3\n",
    "\n",
    "my_result = num1 + num2\n",
    "print(my_result)\n"
   ]
  },
  {
   "cell_type": "markdown",
   "id": "fb4bb253",
   "metadata": {},
   "source": [
    "### Uppgift 2 – Multiplicera två tal\n",
    "Multiplicerar `number_1` och `number_2`, sparar i `my_mult_result` och skriver ut."
   ]
  },
  {
   "cell_type": "code",
   "execution_count": 6,
   "id": "6c85f3c4",
   "metadata": {},
   "outputs": [
    {
     "name": "stdout",
     "output_type": "stream",
     "text": [
      "70\n"
     ]
    }
   ],
   "source": [
    "number_1 = 10\n",
    "number_2 = 7\n",
    "\n",
    "my_mult_result = number_1 * number_2\n",
    "print(my_mult_result)"
   ]
  },
  {
   "cell_type": "markdown",
   "id": "13258950",
   "metadata": {},
   "source": [
    "### Uppgift 3 – Förklara `10 % 3`\n",
    "Modulus (%) ger resten. Exempelvis 10 % 3 = 1."
   ]
  },
  {
   "cell_type": "code",
   "execution_count": 8,
   "id": "dd931190",
   "metadata": {},
   "outputs": [
    {
     "name": "stdout",
     "output_type": "stream",
     "text": [
      "1\n"
     ]
    }
   ],
   "source": [
    "print(10 % 3)"
   ]
  },
  {
   "cell_type": "markdown",
   "id": "13697329",
   "metadata": {},
   "source": [
    "### Uppgift 4 – Förklara `27//6`\n",
    "Division med `//` ger ett heltal, ett `/` ger flyttal (decimaler). `//` avrundas alltid ner."
   ]
  },
  {
   "cell_type": "code",
   "execution_count": 10,
   "id": "32f3cce5",
   "metadata": {},
   "outputs": [
    {
     "name": "stdout",
     "output_type": "stream",
     "text": [
      "4\n"
     ]
    }
   ],
   "source": [
    "print(27//6)"
   ]
  },
  {
   "cell_type": "markdown",
   "id": "c684bf7c",
   "metadata": {},
   "source": [
    "### Uppgift 5 – Felsök en sträng med apostrof"
   ]
  },
  {
   "cell_type": "code",
   "execution_count": null,
   "id": "cf796603",
   "metadata": {},
   "outputs": [
    {
     "name": "stdout",
     "output_type": "stream",
     "text": [
      "It's fun to learn Python!\n"
     ]
    }
   ],
   "source": [
    "print(\"It's fun to learn Python!\")\n",
    "\n",
    "## Har man en apostrof med ett \"single quote\" i strängen så måste man använda dubbla citattecken runt om."
   ]
  },
  {
   "cell_type": "markdown",
   "id": "55710df1",
   "metadata": {},
   "source": [
    "### Uppgift 6 – Vad gör `print('ha'*3)`?"
   ]
  },
  {
   "cell_type": "code",
   "execution_count": 13,
   "id": "3caee5f1",
   "metadata": {},
   "outputs": [
    {
     "name": "stdout",
     "output_type": "stream",
     "text": [
      "hahaha\n"
     ]
    }
   ],
   "source": [
    "print('ha'*3)"
   ]
  },
  {
   "cell_type": "markdown",
   "id": "17475d21",
   "metadata": {},
   "source": [
    "### Uppgift 7 – Extrahera 'Anna' med slicing"
   ]
  },
  {
   "cell_type": "code",
   "execution_count": 17,
   "id": "bdd49732",
   "metadata": {},
   "outputs": [
    {
     "name": "stdout",
     "output_type": "stream",
     "text": [
      "Anna\n"
     ]
    }
   ],
   "source": [
    "name = 'Anna Andersson'\n",
    "print(name [:4])"
   ]
  },
  {
   "cell_type": "markdown",
   "id": "dc75a7af",
   "metadata": {},
   "source": [
    "### Uppgift 8 – Hur många tecken har strängen?\n",
    "Använd `len()`-funktionen."
   ]
  },
  {
   "cell_type": "code",
   "execution_count": 18,
   "id": "811c07ac",
   "metadata": {},
   "outputs": [
    {
     "name": "stdout",
     "output_type": "stream",
     "text": [
      "14\n"
     ]
    }
   ],
   "source": [
    "full_name = 'Anna Andersson'\n",
    "print(len(full_name))"
   ]
  },
  {
   "cell_type": "markdown",
   "id": "57381680",
   "metadata": {},
   "source": [
    "### Uppgift 9a – f-string med två variabler"
   ]
  },
  {
   "cell_type": "code",
   "execution_count": 19,
   "id": "782d769e",
   "metadata": {},
   "outputs": [
    {
     "name": "stdout",
     "output_type": "stream",
     "text": [
      "Hello Guido, Python is really fun to learn!\n"
     ]
    }
   ],
   "source": [
    "founder = 'Guido'\n",
    "language = 'Python'\n",
    "\n",
    "print(f'Hello {founder}, {language} is really fun to learn!')"
   ]
  },
  {
   "cell_type": "markdown",
   "id": "cc82c0a4",
   "metadata": {},
   "source": [
    "### Uppgift 9b – Skriv ut hela namnet i en variabel och använd f-string igen"
   ]
  },
  {
   "cell_type": "code",
   "execution_count": 21,
   "id": "9a90ad83",
   "metadata": {},
   "outputs": [
    {
     "name": "stdout",
     "output_type": "stream",
     "text": [
      "Hello Guido van Rossum, Python is really fun to learn!\n"
     ]
    }
   ],
   "source": [
    "founder_full_name = 'Guido van Rossum'\n",
    "print(f'Hello {founder_full_name}, {language} is really fun to learn!')"
   ]
  },
  {
   "cell_type": "markdown",
   "id": "2cd0ce94",
   "metadata": {},
   "source": [
    "### Uppgift 10 – Varför blir detta fel?\n",
    "För att tuples är **immutabla** – man kan inte ändra ett värde direkt."
   ]
  },
  {
   "cell_type": "code",
   "execution_count": null,
   "id": "66c5106b",
   "metadata": {},
   "outputs": [],
   "source": [
    "my_first_tuple = (10, 5, 'hi', 3)\n",
    "# my_first_tuple[1] = 10  # Ger TypeError"
   ]
  },
  {
   "cell_type": "markdown",
   "id": "405ca0f1",
   "metadata": {},
   "source": [
    "### Uppgift 11 – Vad gör koden?\n",
    "Hämtar det första elementet ur tuple, och sedan 'Java' från listan inuti tuplen."
   ]
  },
  {
   "cell_type": "code",
   "execution_count": null,
   "id": "750a2acb",
   "metadata": {},
   "outputs": [
    {
     "name": "stdout",
     "output_type": "stream",
     "text": [
      "languages\n",
      "apples\n",
      "C\n"
     ]
    }
   ],
   "source": [
    "my_tuple = ('languages', ['Python', 'Java', 'C', 'R'], 'apples')\n",
    "print(my_tuple[0]) ## skriver ut första elementet i my_tuple\n",
    "print(my_tuple[-1]) ## skriver ut sista elementet i my_tuple\n",
    "print(my_tuple[1][2])  ## går till listan och skriver ut element med index 2."
   ]
  },
  {
   "cell_type": "markdown",
   "id": "bfb211df",
   "metadata": {},
   "source": [
    "### Uppgift 12 – Kolla typ på `my_tuple`"
   ]
  },
  {
   "cell_type": "code",
   "execution_count": 23,
   "id": "30fa7307",
   "metadata": {},
   "outputs": [
    {
     "name": "stdout",
     "output_type": "stream",
     "text": [
      "<class 'tuple'>\n"
     ]
    }
   ],
   "source": [
    "print(type(my_tuple)) ## skriver ut vilken typ av datatyp my_tuple är"
   ]
  },
  {
   "cell_type": "markdown",
   "id": "e03138ff",
   "metadata": {},
   "source": [
    "### Uppgift 13 – Vad gör koden nedan?"
   ]
  },
  {
   "cell_type": "code",
   "execution_count": null,
   "id": "7d94172c",
   "metadata": {},
   "outputs": [
    {
     "name": "stdout",
     "output_type": "stream",
     "text": [
      "[10, 7, 'hi', 3]\n"
     ]
    }
   ],
   "source": [
    "my_first_list = [10, 5, 'hi', 3]\n",
    "my_first_list[1] = 7\n",
    "print(my_first_list)\n",
    "\n",
    "## 1. Skapa en lista med värdena\n",
    "## 2. Ändrar värdet på index 1 till 7\n",
    "## 3. Skriv ut listan"
   ]
  },
  {
   "cell_type": "markdown",
   "id": "5336d181",
   "metadata": {},
   "source": [
    "### Uppgift 14 – Datatyp för my_first_list"
   ]
  },
  {
   "cell_type": "code",
   "execution_count": 26,
   "id": "52dc073d",
   "metadata": {},
   "outputs": [
    {
     "name": "stdout",
     "output_type": "stream",
     "text": [
      "<class 'list'>\n"
     ]
    }
   ],
   "source": [
    "print(type(my_first_list))  # <class 'list'>"
   ]
  },
  {
   "cell_type": "markdown",
   "id": "2a0a40c5",
   "metadata": {},
   "source": [
    "### Uppgift 15 – Räkna antal element i shopping_list"
   ]
  },
  {
   "cell_type": "code",
   "execution_count": 27,
   "id": "73cb1ff6",
   "metadata": {},
   "outputs": [
    {
     "name": "stdout",
     "output_type": "stream",
     "text": [
      "5\n"
     ]
    }
   ],
   "source": [
    "shopping_list = ['apple', 'banana', 'grapes', 'eggs', 'milk']\n",
    "print(len(shopping_list))"
   ]
  },
  {
   "cell_type": "markdown",
   "id": "13990106",
   "metadata": {},
   "source": [
    "### Uppgift 16 – Lägg till 'bread' i shopping_list"
   ]
  },
  {
   "cell_type": "code",
   "execution_count": 28,
   "id": "33dda3ef",
   "metadata": {},
   "outputs": [
    {
     "name": "stdout",
     "output_type": "stream",
     "text": [
      "['apple', 'banana', 'grapes', 'eggs', 'milk', 'bread']\n"
     ]
    }
   ],
   "source": [
    "shopping_list.append('bread')\n",
    "print(shopping_list)"
   ]
  },
  {
   "cell_type": "markdown",
   "id": "67bad135",
   "metadata": {},
   "source": [
    "### Uppgift 17 – Räkna antal 7 i lista"
   ]
  },
  {
   "cell_type": "code",
   "execution_count": null,
   "id": "643e962b",
   "metadata": {},
   "outputs": [
    {
     "name": "stdout",
     "output_type": "stream",
     "text": [
      "3\n"
     ]
    }
   ],
   "source": [
    "my_numbers = [1, 7, 2, 7, 10, 7]\n",
    "print(my_numbers.count(7))  # räknar hur många gånger 7 finns i listan"
   ]
  },
  {
   "cell_type": "markdown",
   "id": "44f516f5",
   "metadata": {},
   "source": [
    "### Uppgift 18 – Konvertera tuple till lista"
   ]
  },
  {
   "cell_type": "code",
   "execution_count": 31,
   "id": "02d9d439",
   "metadata": {},
   "outputs": [
    {
     "name": "stdout",
     "output_type": "stream",
     "text": [
      "[1, 2, 3]\n"
     ]
    }
   ],
   "source": [
    "one_tuple = (1, 2, 3)\n",
    "one_list = list(one_tuple)\n",
    "print(one_list)"
   ]
  },
  {
   "cell_type": "markdown",
   "id": "05e391be",
   "metadata": {},
   "source": [
    "### Uppgift 19 – Vad gör koden?"
   ]
  },
  {
   "cell_type": "code",
   "execution_count": null,
   "id": "cc7ed062",
   "metadata": {},
   "outputs": [
    {
     "name": "stdout",
     "output_type": "stream",
     "text": [
      "19\n"
     ]
    }
   ],
   "source": [
    "my_first_dict = {'Anna': 38, 'Goran': 19, 'Lennart': 59, 'Halimah': 28}\n",
    "print(my_first_dict['Goran'])\n",
    "\n",
    "## 1. Skapa en dictionary med värdena\n",
    "## 2. letar upp värdet för 'Goran' och skriver ut det"
   ]
  },
  {
   "cell_type": "markdown",
   "id": "cda8aa02",
   "metadata": {},
   "source": [
    "### Uppgift 20 – Kolla typ på my_first_dict"
   ]
  },
  {
   "cell_type": "code",
   "execution_count": null,
   "id": "6fa8e1a3",
   "metadata": {},
   "outputs": [
    {
     "name": "stdout",
     "output_type": "stream",
     "text": [
      "<class 'dict'>\n"
     ]
    }
   ],
   "source": [
    "print(type(my_first_dict))"
   ]
  },
  {
   "cell_type": "markdown",
   "id": "10b8b3d7",
   "metadata": {},
   "source": [
    "### Uppgift 21 – Varför syns 5 bara en gång i ett set?"
   ]
  },
  {
   "cell_type": "code",
   "execution_count": 35,
   "id": "eb64e5c1",
   "metadata": {},
   "outputs": [
    {
     "name": "stdout",
     "output_type": "stream",
     "text": [
      "{10, 2, 5}\n"
     ]
    }
   ],
   "source": [
    "my_set = {10, 5, 2, 5, 5}\n",
    "print(my_set)  # Set visar bara unika värden"
   ]
  },
  {
   "cell_type": "markdown",
   "id": "4b15cd6b",
   "metadata": {},
   "source": [
    "### Uppgift 22a – intersection mellan A och B"
   ]
  },
  {
   "cell_type": "code",
   "execution_count": 36,
   "id": "8a07ff4f",
   "metadata": {},
   "outputs": [
    {
     "name": "stdout",
     "output_type": "stream",
     "text": [
      "{3, 5}\n"
     ]
    }
   ],
   "source": [
    "A = {1, 2, 3, 4, 5}\n",
    "B = {3, 10, 5, 7}\n",
    "print(A.intersection(B))"
   ]
  },
  {
   "cell_type": "markdown",
   "id": "2044ed07",
   "metadata": {},
   "source": [
    "### Uppgift 22b – union mellan A och B"
   ]
  },
  {
   "cell_type": "code",
   "execution_count": 37,
   "id": "4bb96b8c",
   "metadata": {},
   "outputs": [
    {
     "name": "stdout",
     "output_type": "stream",
     "text": [
      "{1, 2, 3, 4, 5, 7, 10}\n"
     ]
    }
   ],
   "source": [
    "print(A.union(B))"
   ]
  },
  {
   "cell_type": "markdown",
   "id": "d6eb2fef",
   "metadata": {},
   "source": [
    "### Uppgift 22c – difference mellan A och B"
   ]
  },
  {
   "cell_type": "code",
   "execution_count": 38,
   "id": "428986d4",
   "metadata": {},
   "outputs": [
    {
     "name": "stdout",
     "output_type": "stream",
     "text": [
      "{1, 2, 4}\n"
     ]
    }
   ],
   "source": [
    "print(A.difference(B))"
   ]
  },
  {
   "cell_type": "markdown",
   "id": "ce3d5eff",
   "metadata": {},
   "source": [
    "### Uppgift 23a – element i båda listorna"
   ]
  },
  {
   "cell_type": "code",
   "execution_count": 39,
   "id": "9e23a133",
   "metadata": {},
   "outputs": [
    {
     "name": "stdout",
     "output_type": "stream",
     "text": [
      "{5}\n"
     ]
    }
   ],
   "source": [
    "list_a = [1, 2, 3, 4, 5]\n",
    "list_b = [5, 6, 10, 21]\n",
    "print(set(list_a).intersection(list_b))"
   ]
  },
  {
   "cell_type": "markdown",
   "id": "83978248",
   "metadata": {},
   "source": [
    "### Uppgift 23b – element i list_a eller list_b"
   ]
  },
  {
   "cell_type": "code",
   "execution_count": 40,
   "id": "d094c10b",
   "metadata": {},
   "outputs": [
    {
     "name": "stdout",
     "output_type": "stream",
     "text": [
      "{1, 2, 3, 4, 5, 6, 21, 10}\n"
     ]
    }
   ],
   "source": [
    "print(set(list_a).union(list_b))"
   ]
  },
  {
   "cell_type": "markdown",
   "id": "35189017",
   "metadata": {},
   "source": [
    "### Uppgift 24 – Unika element från tuple"
   ]
  },
  {
   "cell_type": "code",
   "execution_count": 41,
   "id": "4dadd223",
   "metadata": {},
   "outputs": [
    {
     "name": "stdout",
     "output_type": "stream",
     "text": [
      "{1, 10, 2}\n"
     ]
    }
   ],
   "source": [
    "unique_values = (10, 2, 2, 10, 1)\n",
    "print(set(unique_values))"
   ]
  }
 ],
 "metadata": {
  "kernelspec": {
   "display_name": "Python (.venv)",
   "language": "python",
   "name": "exercises"
  },
  "language_info": {
   "codemirror_mode": {
    "name": "ipython",
    "version": 3
   },
   "file_extension": ".py",
   "mimetype": "text/x-python",
   "name": "python",
   "nbconvert_exporter": "python",
   "pygments_lexer": "ipython3",
   "version": "3.13.3"
  }
 },
 "nbformat": 4,
 "nbformat_minor": 5
}
