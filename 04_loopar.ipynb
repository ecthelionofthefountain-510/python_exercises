{
 "cells": [
  {
   "cell_type": "markdown",
   "id": "caffea89",
   "metadata": {},
   "source": [
    "# Uppgifter, Kapitel 4 - Loopar och iterationer"
   ]
  },
  {
   "cell_type": "markdown",
   "id": "8f09f6ac",
   "metadata": {},
   "source": [
    "1. Printa ut alla element i listan \"looping_list\" med en for loop. "
   ]
  },
  {
   "cell_type": "code",
   "execution_count": 1,
   "id": "4eed468f",
   "metadata": {},
   "outputs": [],
   "source": [
    "looping_list = [0, 'a', 'b', [1, 2, 3], ('Python', 'R', 'C', 'Java'), 55]"
   ]
  },
  {
   "cell_type": "code",
   "execution_count": 2,
   "id": "b2a32044",
   "metadata": {},
   "outputs": [
    {
     "name": "stdout",
     "output_type": "stream",
     "text": [
      "0\n",
      "a\n",
      "b\n",
      "1\n",
      "2\n",
      "3\n",
      "Python\n",
      "R\n",
      "C\n",
      "Java\n",
      "55\n"
     ]
    }
   ],
   "source": [
    "for i in looping_list:\n",
    "    if isinstance(i, list):\n",
    "        for j in i:\n",
    "            print(j)\n",
    "    elif isinstance(i, tuple):\n",
    "        for k in i:\n",
    "            print(k)\n",
    "    else:\n",
    "        print(i)"
   ]
  },
  {
   "cell_type": "markdown",
   "id": "39681d8f",
   "metadata": {},
   "source": [
    "2. Printa ut alla element i listan \"looping_list\" med en for loop och printa även ut vilken iteration det är genom att använda funktionen enumerate(). "
   ]
  },
  {
   "cell_type": "code",
   "execution_count": 3,
   "id": "6093ea47",
   "metadata": {},
   "outputs": [],
   "source": [
    "looping_list = [0, 'a', 'b', [1, 2, 3], ('Python', 'R', 'C', 'Java'), 55]"
   ]
  },
  {
   "cell_type": "code",
   "execution_count": 4,
   "id": "51aa48c8",
   "metadata": {},
   "outputs": [
    {
     "name": "stdout",
     "output_type": "stream",
     "text": [
      "Iteration 0: 0\n",
      "Iteration 1: a\n",
      "Iteration 2: b\n",
      "Iteration 3: [1, 2, 3]\n",
      "Iteration 4: ('Python', 'R', 'C', 'Java')\n",
      "Iteration 5: 55\n"
     ]
    }
   ],
   "source": [
    "for index, value in enumerate(looping_list):\n",
    "  print(f\"Iteration {index}: {value}\")"
   ]
  },
  {
   "cell_type": "markdown",
   "id": "46e057dc",
   "metadata": {},
   "source": [
    "3. Printa ut talen 0, 5, 10, 15, 20 med en for-loop där du använder range() funktionen. "
   ]
  },
  {
   "cell_type": "code",
   "execution_count": 5,
   "id": "78b5e79a",
   "metadata": {},
   "outputs": [
    {
     "name": "stdout",
     "output_type": "stream",
     "text": [
      "0\n",
      "5\n",
      "10\n",
      "15\n",
      "20\n"
     ]
    }
   ],
   "source": [
    "for i in range(0, 21, 5):\n",
    "  print(i)"
   ]
  },
  {
   "cell_type": "markdown",
   "id": "18de5d11",
   "metadata": {},
   "source": [
    "4. Skriv en for loop för att printa ut varje bokstav separat i variabeln \"for_string\". "
   ]
  },
  {
   "cell_type": "code",
   "execution_count": 6,
   "id": "4ed72a17",
   "metadata": {},
   "outputs": [],
   "source": [
    "for_string = 'Python!'"
   ]
  },
  {
   "cell_type": "code",
   "execution_count": 7,
   "id": "1f07e63b",
   "metadata": {},
   "outputs": [
    {
     "name": "stdout",
     "output_type": "stream",
     "text": [
      "P\n",
      "y\n",
      "t\n",
      "h\n",
      "o\n",
      "n\n",
      "!\n"
     ]
    }
   ],
   "source": [
    "for char in 'Python!':\n",
    "  print(char)"
   ]
  },
  {
   "cell_type": "markdown",
   "id": "9d923c87",
   "metadata": {},
   "source": [
    "5. Skriv en while loop för att printa ut varje bokstav separat i variabeln \"while_string\". "
   ]
  },
  {
   "cell_type": "code",
   "execution_count": 8,
   "id": "8dcab1e1",
   "metadata": {},
   "outputs": [],
   "source": [
    "while_string = 'Is Awesome!'"
   ]
  },
  {
   "cell_type": "code",
   "execution_count": 9,
   "id": "baca8696",
   "metadata": {},
   "outputs": [
    {
     "name": "stdout",
     "output_type": "stream",
     "text": [
      "I\n",
      "s\n",
      " \n",
      "A\n",
      "w\n",
      "e\n",
      "s\n",
      "o\n",
      "m\n",
      "e\n",
      "!\n"
     ]
    }
   ],
   "source": [
    "while_string = 'Is Awesome!'\n",
    "i = 0\n",
    "while i < len(while_string):\n",
    "  print(while_string[i])\n",
    "  i += 1"
   ]
  },
  {
   "cell_type": "markdown",
   "id": "9c067e5e",
   "metadata": {},
   "source": [
    "6. Printa ut talen 1, 2, 3, ..., 10 med en while loop. "
   ]
  },
  {
   "cell_type": "code",
   "execution_count": 10,
   "id": "78ee99ab",
   "metadata": {},
   "outputs": [
    {
     "name": "stdout",
     "output_type": "stream",
     "text": [
      "1\n",
      "2\n",
      "3\n",
      "4\n",
      "5\n",
      "6\n",
      "7\n",
      "8\n",
      "9\n",
      "10\n"
     ]
    }
   ],
   "source": [
    "i = 1\n",
    "while i <= 10:\n",
    "  print(i)\n",
    "  i += 1"
   ]
  },
  {
   "cell_type": "markdown",
   "id": "7eca500a",
   "metadata": {},
   "source": [
    "7. Printa ut alla tal som är delbara med 5 i listan som är sparad i variabeln \"numbers\". För att se om ett tal är delbart med 5 så kan du använda modulo operatorn \"%\". Ett tal är delbart med 5 om dess rest är 0 när det delas med 5. "
   ]
  },
  {
   "cell_type": "code",
   "execution_count": 11,
   "id": "f0d28b6f",
   "metadata": {},
   "outputs": [],
   "source": [
    "numbers = [10, 20, 34, 46, 55]"
   ]
  },
  {
   "cell_type": "code",
   "execution_count": 12,
   "id": "f14a9577",
   "metadata": {},
   "outputs": [
    {
     "name": "stdout",
     "output_type": "stream",
     "text": [
      "10\n",
      "20\n",
      "55\n"
     ]
    }
   ],
   "source": [
    "for num in numbers:\n",
    "  if num % 5 == 0:\n",
    "    print(num)"
   ]
  },
  {
   "cell_type": "markdown",
   "id": "5ee27b67",
   "metadata": {},
   "source": [
    "8. Förklara vad nedanstående kod gör. "
   ]
  },
  {
   "cell_type": "code",
   "execution_count": null,
   "id": "24449b45",
   "metadata": {},
   "outputs": [
    {
     "name": "stdout",
     "output_type": "stream",
     "text": [
      "[0, 2, 4, 6, 8]\n"
     ]
    }
   ],
   "source": [
    "my_list = [] \n",
    "\n",
    "for i in range(10):\n",
    "    if i % 2 == 0:\n",
    "        my_list.append(i)\n",
    "\n",
    "print(my_list)\n",
    "\n",
    "# Den skapar en tom lista och fyller den med alla jämna tal från 0 till 9."
   ]
  },
  {
   "cell_type": "markdown",
   "id": "1e56ef7e",
   "metadata": {},
   "source": [
    "9. Använd en for loop för att skapa en ny lista från \"list_example\", där varje tal är multiplicerat med 10. Du skall endast inkludera talen mellan 4-8 där 4 och 8 är inkluderat från \"list example\". "
   ]
  },
  {
   "cell_type": "code",
   "execution_count": 15,
   "id": "44046755",
   "metadata": {},
   "outputs": [],
   "source": [
    "list_example = [1, 2, 3, 4, 5, 6, 7, 8, 9, 10]"
   ]
  },
  {
   "cell_type": "code",
   "execution_count": 16,
   "id": "185cd93d",
   "metadata": {},
   "outputs": [
    {
     "name": "stdout",
     "output_type": "stream",
     "text": [
      "[40, 50, 60, 70, 80]\n"
     ]
    }
   ],
   "source": [
    "list_example = [1, 2, 3, 4, 5, 6, 7, 8, 9, 10]\n",
    "new_list = []\n",
    "for i in list_example:\n",
    "    if 4 <= i <= 8:\n",
    "        new_list.append(i * 10)\n",
    "print(new_list)"
   ]
  },
  {
   "cell_type": "markdown",
   "id": "cec3cd31",
   "metadata": {},
   "source": [
    "10. Förklara vad nedanstående kod gör."
   ]
  },
  {
   "cell_type": "code",
   "execution_count": 17,
   "id": "e5f65902",
   "metadata": {},
   "outputs": [
    {
     "name": "stdout",
     "output_type": "stream",
     "text": [
      "0\n",
      "1\n",
      "2\n",
      "3\n",
      "4\n",
      "6\n",
      "9\n",
      "10\n"
     ]
    }
   ],
   "source": [
    "for i in range(100):\n",
    "    if i in (5, 7, 8):\n",
    "        continue \n",
    "    if i > 10: \n",
    "       break\n",
    "    print(i)\n",
    "else: \n",
    "    print('We are done!')\n",
    "\n",
    "## Loopen printar 0 till 10, men hoppar över talen 5, 7 och 8.\n",
    "## Om i blir större än 10 så avslutas loopen med break och \"We are done!\" printas inte."
   ]
  },
  {
   "cell_type": "code",
   "execution_count": null,
   "id": "74c81112",
   "metadata": {},
   "outputs": [],
   "source": []
  }
 ],
 "metadata": {
  "kernelspec": {
   "display_name": "Python (.venv)",
   "language": "python",
   "name": "exercises"
  },
  "language_info": {
   "codemirror_mode": {
    "name": "ipython",
    "version": 3
   },
   "file_extension": ".py",
   "mimetype": "text/x-python",
   "name": "python",
   "nbconvert_exporter": "python",
   "pygments_lexer": "ipython3",
   "version": "3.13.3"
  }
 },
 "nbformat": 4,
 "nbformat_minor": 5
}
