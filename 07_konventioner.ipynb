{
 "cells": [
  {
   "attachments": {},
   "cell_type": "markdown",
   "id": "9799136c-28e3-4c25-9585-241385dd2803",
   "metadata": {},
   "source": [
    "# Uppgifter, Kapitel 7 - Konventioner och standarder"
   ]
  },
  {
   "cell_type": "markdown",
   "id": "1565038d-c4c8-4da0-af92-3fc60587fb8b",
   "metadata": {},
   "source": [
    "1. Läs \"PEP 8 – Style Guide for \n",
    "Python Cod\"  och besvaranedanstående frågor.\n",
    " \n",
    "   a) Om du arbetar i ett projekt som har ett internt dokument med \"style guidelines\" där vissa saker går emot vad PEP8 säger. Vad gör du då?\n",
    "   \n",
    "   b) På vilket språk skall kommentarer generellt sett skrivas.\n",
    "   \n",
    "   c) Hur skall funktioner och variabler namnges?\n",
    "   \n",
    "   d) Hur skall klasser namnges?\n",
    "   \n",
    "   e) Om du i ditt skript importerar exempelvis en modul, vart i skriptet skall koden som utför importen placeras?\n",
    "   \n",
    "   f) Enligt PEP8, skall man använda enkla ('my_string') eller dubbla (\"my_string\") citattecken för att skapa en sträng?\n",
    "   \n",
    "   g) Vilket av \"Alternativ 1\" och \"Alternativ 2\" nedan är det korrekta sättet att skriva koden på enligt PEP8?"
   ]
  },
  {
   "cell_type": "markdown",
   "id": "2bd701d4",
   "metadata": {},
   "source": [
    "a) Konflikt mellan interna riktlinjer och PEP 8\n",
    "\t•\tLeta först upp var konflikten ligger. Ta sedan upp frågan med projektets ansvariga (teamledare eller arkitekt) – förklara fördelarna med PEP 8 (läsbarhet, verktygsstöd, gemensam standard) och föreslå att man antingen anpassar det interna dokumentet till PEP 8 eller beslutar om en väl dokumenterad avvikelse. I praktiken följer du alltid den stil som är fastslagen för projektet, men du kan driva på att justera projektets standard mot PEP 8 där det är möjligt.\n",
    "\n",
    "b) Språk för kommentarer\n",
    "– Generellt skrivs kommentarer på engelska, eftersom kod ofta delas med eller underhålls av personer som inte talar svenska. Engelska är de facto-språket i de flesta open source-projekt och större företag.\n",
    "\n",
    "c) Namn på funktioner och variabler\n",
    "– Använd snake_case (gemener och understreck), t.ex. calculate_total, user_id.\n",
    "\n",
    "d) Namn på klasser\n",
    "– Använd CapWords (PascalCase), t.ex. CustomerOrder, InvoiceGenerator.\n",
    "\n",
    "e) Placering av import-satser\n",
    "– Imports ska ligga längst upp i filen\n",
    "\n",
    "f) Enkla eller dubbla citattecken?\n",
    "– PEP 8 säger att du gärna får välja antingen '…' eller \"…\" så länge du är konsekvent inom projektet. Om strängen innehåller enkla citattecken, välj dubbla för att slippa escapes, och tvärtom."
   ]
  },
  {
   "cell_type": "code",
   "execution_count": 1,
   "id": "c6cdc9fa-8b18-49ed-a68f-db94479750ac",
   "metadata": {},
   "outputs": [],
   "source": [
    "# Alternativ 1\n",
    "a1 = 5 + 2\n",
    "\n",
    "# Alternativ 2\n",
    "a2=5+2"
   ]
  },
  {
   "cell_type": "code",
   "execution_count": null,
   "id": "829819eb-1174-420d-bf53-e86a7c992bb2",
   "metadata": {},
   "outputs": [],
   "source": [
    "# Alternativ 1\n",
    "a1 = 5 + 2"
   ]
  },
  {
   "cell_type": "markdown",
   "id": "2d096e06-bce1-4145-9c5d-f4d3a6d01107",
   "metadata": {},
   "source": [
    "2. I \"PEP20 - The Zen of Python\" så står det:\n",
    "   \n",
    "   a) \"Explicit is better than implicit.\" Vad tror du det innebär? Kan du exemplifiera?\n",
    "   \n",
    "   b) \"Simple is better than complex.\" Vad tror du det innebär? Kan du exemplifiera? ."
   ]
  },
  {
   "cell_type": "markdown",
   "id": "d627557e",
   "metadata": {},
   "source": [
    "a) Det innebär att koden ska vara tydlig med vad den gör, hellre än att gömma beteenden eller antaganden.\n",
    "\n",
    "b) Hellre enkel, lättförståelig kod än överenginerad, svår att följa."
   ]
  },
  {
   "cell_type": "markdown",
   "id": "78ca2c6f-b3bb-4d36-bddf-38a46ebca1bd",
   "metadata": {},
   "source": [
    "3. Du och din nya kollega har en fikapaus och han säger följande: \"Det känns krångligt att vi alla skall behöva följa konventioner och standarder. Är det inte lättare om alla bara skriver kod på det sättet som de vill, sålänge som den fungerar\"? Vad svarar du? "
   ]
  },
  {
   "cell_type": "markdown",
   "id": "f373f4d3",
   "metadata": {},
   "source": [
    "Konventioner är ett verktyg för att minska kostnader för kommunikation, inlärning och felrättning över tid – och det tjänar alla på."
   ]
  }
 ],
 "metadata": {
  "kernelspec": {
   "display_name": "Python 3 (ipykernel)",
   "language": "python",
   "name": "python3"
  },
  "language_info": {
   "codemirror_mode": {
    "name": "ipython",
    "version": 3
   },
   "file_extension": ".py",
   "mimetype": "text/x-python",
   "name": "python",
   "nbconvert_exporter": "python",
   "pygments_lexer": "ipython3",
   "version": "3.9.18"
  }
 },
 "nbformat": 4,
 "nbformat_minor": 5
}
