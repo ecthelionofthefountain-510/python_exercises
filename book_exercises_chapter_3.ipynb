{
 "cells": [
  {
   "cell_type": "markdown",
   "id": "5e3c0d29",
   "metadata": {},
   "source": [
    "### Uppgift 1 – Vad gör koden?"
   ]
  },
  {
   "cell_type": "code",
   "execution_count": 2,
   "id": "14f37907",
   "metadata": {},
   "outputs": [
    {
     "name": "stdout",
     "output_type": "stream",
     "text": [
      "You can take a drivers license\n"
     ]
    }
   ],
   "source": [
    "age = 37\n",
    "\n",
    "if age > 18:\n",
    "    print('You can take a drivers license')\n",
    "else:\n",
    "    print('You are too young to take a drivers license')"
   ]
  },
  {
   "cell_type": "markdown",
   "id": "5c4e91e5",
   "metadata": {},
   "source": [
    "### Uppgift 2 – Skapa program som undersöker värdet i x"
   ]
  },
  {
   "cell_type": "code",
   "execution_count": 3,
   "id": "8d175318",
   "metadata": {},
   "outputs": [
    {
     "name": "stdout",
     "output_type": "stream",
     "text": [
      "x är mellan 5 och 10\n"
     ]
    }
   ],
   "source": [
    "x = 7\n",
    "\n",
    "if x > 10:\n",
    "    print(\"x är större än 10\")\n",
    "elif 5 <= x <= 10:\n",
    "    print(\"x är mellan 5 och 10\")\n",
    "else:\n",
    "    print(\"x är mindre än 5\")"
   ]
  },
  {
   "cell_type": "markdown",
   "id": "b0a31edb",
   "metadata": {},
   "source": [
    "### Uppgift 3 – Varför blir resultatet True?"
   ]
  },
  {
   "cell_type": "code",
   "execution_count": null,
   "id": "5f7d4202",
   "metadata": {},
   "outputs": [
    {
     "data": {
      "text/plain": [
       "True"
      ]
     },
     "execution_count": 4,
     "metadata": {},
     "output_type": "execute_result"
    }
   ],
   "source": [
    "1 == True\n",
    "\n",
    "## True har värdet 1 i Python, så 1 == True returnerar True."
   ]
  },
  {
   "cell_type": "markdown",
   "id": "53933fda",
   "metadata": {},
   "source": [
    "### Uppgift 4 – Vad blir resultatet?"
   ]
  },
  {
   "cell_type": "code",
   "execution_count": null,
   "id": "3cbb5ddc",
   "metadata": {},
   "outputs": [
    {
     "data": {
      "text/plain": [
       "False"
      ]
     },
     "execution_count": 5,
     "metadata": {},
     "output_type": "execute_result"
    }
   ],
   "source": [
    "10 > 15\n",
    "\n",
    "## False, 10 är inte större än 15."
   ]
  },
  {
   "cell_type": "markdown",
   "id": "9e052644",
   "metadata": {},
   "source": [
    "### Uppgift 5 – Vad blir resultatet?"
   ]
  },
  {
   "cell_type": "code",
   "execution_count": 6,
   "id": "a3651e0b",
   "metadata": {},
   "outputs": [
    {
     "data": {
      "text/plain": [
       "True"
      ]
     },
     "execution_count": 6,
     "metadata": {},
     "output_type": "execute_result"
    }
   ],
   "source": [
    "7 >= 7\n",
    "\n",
    "## True, 7 är lika med 7."
   ]
  },
  {
   "cell_type": "markdown",
   "id": "ce9badf9",
   "metadata": {},
   "source": [
    "### Uppgift 6 – Vad blir resultatet?"
   ]
  },
  {
   "cell_type": "code",
   "execution_count": null,
   "id": "ea76494e",
   "metadata": {},
   "outputs": [
    {
     "data": {
      "text/plain": [
       "False"
      ]
     },
     "execution_count": 7,
     "metadata": {},
     "output_type": "execute_result"
    }
   ],
   "source": [
    "3 != 3\n",
    "\n",
    "## False, 3 är lika med 3."
   ]
  },
  {
   "cell_type": "markdown",
   "id": "b2ddaa50",
   "metadata": {},
   "source": [
    "### Uppgift 7 – Vad blir resultatet?"
   ]
  },
  {
   "cell_type": "code",
   "execution_count": null,
   "id": "2d408520",
   "metadata": {},
   "outputs": [
    {
     "data": {
      "text/plain": [
       "False"
      ]
     },
     "execution_count": 8,
     "metadata": {},
     "output_type": "execute_result"
    }
   ],
   "source": [
    "5 >= 5 and 5 > 6\n",
    "\n",
    "## False, 5 är inte större än 6."
   ]
  },
  {
   "cell_type": "markdown",
   "id": "92851797",
   "metadata": {},
   "source": [
    "### Uppgift 8 – Vad blir resultatet?"
   ]
  },
  {
   "cell_type": "code",
   "execution_count": 9,
   "id": "87285500",
   "metadata": {},
   "outputs": [
    {
     "data": {
      "text/plain": [
       "True"
      ]
     },
     "execution_count": 9,
     "metadata": {},
     "output_type": "execute_result"
    }
   ],
   "source": [
    "5 >= 5 or 5 > 6\n",
    "\n",
    "## True, 5 är lika med 5, ocg 'or' kräver bara att en av dem är True för att returnera True."
   ]
  },
  {
   "cell_type": "markdown",
   "id": "3dfb42fe",
   "metadata": {},
   "source": [
    "### Uppgift 9 – Vad blir resultatet?"
   ]
  },
  {
   "cell_type": "code",
   "execution_count": 10,
   "id": "913646a3",
   "metadata": {},
   "outputs": [
    {
     "data": {
      "text/plain": [
       "True"
      ]
     },
     "execution_count": 10,
     "metadata": {},
     "output_type": "execute_result"
    }
   ],
   "source": [
    "(5 > 4 and 5 >= 5) or (10 > 2 and 3 > 100)\n",
    "\n",
    "## True, 5 är större än 4 och 5 är lika med 5, så den första delen av 'or' returnerar True.\n"
   ]
  },
  {
   "cell_type": "markdown",
   "id": "98ae4c10",
   "metadata": {},
   "source": [
    "### Uppgift 10 – Skillnaden mellan kodblocken\n"
   ]
  },
  {
   "cell_type": "code",
   "execution_count": 11,
   "id": "3036baf5",
   "metadata": {},
   "outputs": [],
   "source": [
    "number = 8"
   ]
  },
  {
   "cell_type": "code",
   "execution_count": null,
   "id": "1345990b",
   "metadata": {},
   "outputs": [
    {
     "name": "stdout",
     "output_type": "stream",
     "text": [
      "less than 10\n",
      "less than 100\n"
     ]
    }
   ],
   "source": [
    "if number < 5:\n",
    "    print(\"less than 5\")\n",
    "if number < 10:\n",
    "    print(\"less than 10\")\n",
    "if number < 100:\n",
    "    print(\"less than 100\")\n",
    "\n",
    "## Kör alla villkor som är True, oavsett om tidigare villkor redan matchat.\n"
   ]
  },
  {
   "cell_type": "code",
   "execution_count": null,
   "id": "712efc25",
   "metadata": {},
   "outputs": [
    {
     "name": "stdout",
     "output_type": "stream",
     "text": [
      "less than 10\n"
     ]
    }
   ],
   "source": [
    "if number < 5:\n",
    "    print(\"less than 5\")\n",
    "elif number < 10:\n",
    "    print(\"less than 10\")\n",
    "elif number < 100:\n",
    "    print(\"less than 100\")\n",
    "\n",
    "## Kör bara det första villkoret som är True, resten ignoreras."
   ]
  }
 ],
 "metadata": {
  "kernelspec": {
   "display_name": "Python (.venv)",
   "language": "python",
   "name": "exercises"
  },
  "language_info": {
   "codemirror_mode": {
    "name": "ipython",
    "version": 3
   },
   "file_extension": ".py",
   "mimetype": "text/x-python",
   "name": "python",
   "nbconvert_exporter": "python",
   "pygments_lexer": "ipython3",
   "version": "3.13.3"
  }
 },
 "nbformat": 4,
 "nbformat_minor": 5
}
