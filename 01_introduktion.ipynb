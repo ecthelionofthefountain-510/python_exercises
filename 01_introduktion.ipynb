{
 "cells": [
  {
   "cell_type": "markdown",
   "id": "8f17ec67",
   "metadata": {},
   "source": [
    "# Lär dig Python från grunden\n",
    "\n",
    "## Kapitel 1:\n",
    "\n",
    "Vem skapades Python av? - Guido van Rossum \n",
    "Vad står A, B och C för? - A ökar endas när RIKTIGT stora förändringar görs, B ökar när det är ändringar som inte är allt för stora och C ökar när problems som upptäckts i en B-version fixats.\n",
    "Vad är en virtuell miljö? - En kopia av en Python-installation som är isolerad från den centrala installationen.\n"
   ]
  }
 ],
 "metadata": {
  "language_info": {
   "name": "python"
  }
 },
 "nbformat": 4,
 "nbformat_minor": 5
}
