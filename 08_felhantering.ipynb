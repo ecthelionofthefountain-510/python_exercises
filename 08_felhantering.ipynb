{
 "cells": [
  {
   "cell_type": "markdown",
   "id": "975615f5-e018-4d02-a7f2-761d1ebf8517",
   "metadata": {},
   "source": [
    "# Uppgifter, Kapitel 8 - Felhantering"
   ]
  },
  {
   "cell_type": "markdown",
   "id": "c9b652d0-5240-494e-bf22-d71a49a46a01",
   "metadata": {},
   "source": [
    "1. Din kollega Johanna frågar dig:\n",
    "   \n",
    "   a) Vad är syntax errors?\n",
    "   \n",
    "   b) Varför skulle man vilja \"fånga exceptions\" i ett program och inte bara låta programmet stanna vid fel?\n",
    "   \n",
    "   c) Varför skulle man vilja \"lyfta exceptions\" i ett program? "
   ]
  },
  {
   "cell_type": "markdown",
   "id": "09ae8d5d",
   "metadata": {},
   "source": [
    "a) Syntaxfel uppstår när koden bryter mot Python-språkets grammatikregler, till exempel saknade kolon, felaktig indragning eller missade parenteser. Interpreteraren kan inte ens börja köra koden utan klagar om sådan felaktig syntax.\n",
    "\n",
    "b) \n",
    "– Robusthet: Programmet kan hantera oförutsedda situationer (t.ex. felaktig användarinmatning) utan att krascha helt.\n",
    "– Återhämtning: Du kan ge användaren en användbar fel­meddelande eller ett alternativt flöde (t.ex. be om ny inmatning).\n",
    "– Loggning: Du kan logga detaljer om vad som gick fel för felsökning senare.\n",
    "\n",
    "c)\n",
    "– Signalera fel på högre nivå: Om en funktion upptäcker ett problem den inte kan hantera, kan den “lyfta” exception så att den som anropar funktionen kan besluta hur felet ska hanteras.\n",
    "– Tydlighet: Genom att lyfta egna undantagstyper (raise ValueError(\"…\")) gör du det tydligt exakt vilken typ av fel som inträffade.\n",
    "– Avbrytning av flöde: Ibland vill du avbryta fortsatt exekvering med en specifik felkod."
   ]
  },
  {
   "cell_type": "markdown",
   "id": "e48a5bb4-22b3-4c97-8c0e-a1ffcc636be8",
   "metadata": {},
   "source": [
    "2. a) Förklara vad nedanstående kod gör.\n",
    "\n",
    "   b) Generellt sett, vad är poängen med att använda \"else\"?  "
   ]
  },
  {
   "cell_type": "code",
   "execution_count": 5,
   "id": "dd222cc8-183d-4f33-808d-2c6e996903d0",
   "metadata": {},
   "outputs": [
    {
     "name": "stdout",
     "output_type": "stream",
     "text": [
      "314\n",
      "Invalid input, cannot convert to integer.\n"
     ]
    }
   ],
   "source": [
    "def convert_string_to_int(string):\n",
    "    try:\n",
    "        int(string)\n",
    "    except ValueError:\n",
    "        return \"Invalid input, cannot convert to integer.\"\n",
    "    else:\n",
    "        return int(string)\n",
    "\n",
    "print(convert_string_to_int(\"314\")) \n",
    "print(convert_string_to_int(\"abc\"))  "
   ]
  },
  {
   "cell_type": "markdown",
   "id": "2a7c378d",
   "metadata": {},
   "source": [
    "a) Koden försöker (i try) konvertera strängen till ett heltal med int(string).\n",
    "\t•\tOm Python kastar en ValueError (dvs strängen inte är ett giltigt tal) fångas den i except och ett felmeddelande returneras.\n",
    "\t•\tOm ingen exception sker körs else-blocket, som gör om konverteringen och returnerar resultatet som ett heltal.\n",
    "\n",
    "b) else används för kod som bara ska köras om inget undantag inträffade i try-blocket. Det gör koden tydligare genom att skilja “normalflöde” från fel­hantering."
   ]
  },
  {
   "cell_type": "markdown",
   "id": "184b8227-4840-4f2f-8f10-f4045f3ffc9b",
   "metadata": {},
   "source": [
    "3. Skriv ett kodexempel där du fångar en exception. Endast din kreativitet sätter gränser. "
   ]
  },
  {
   "cell_type": "code",
   "execution_count": 6,
   "id": "d66f40d0-e5bc-4dfa-be57-6806c06a15b0",
   "metadata": {},
   "outputs": [
    {
     "name": "stdout",
     "output_type": "stream",
     "text": [
      "Fel: Du måste mata in ett giltigt tal.\n",
      "Avslutar beräkning.\n"
     ]
    }
   ],
   "source": [
    "def safe_division():\n",
    "    try:\n",
    "        a = float(input(\"Ange täljare: \"))\n",
    "        b = float(input(\"Ange nämnare: \"))\n",
    "        result = a / b\n",
    "    except ValueError:\n",
    "        print(\"Fel: Du måste mata in ett giltigt tal.\")\n",
    "    except ZeroDivisionError:\n",
    "        print(\"Fel: Division med noll är inte tillåten.\")\n",
    "    else:\n",
    "        print(f\"Resultatet av {a} / {b} är {result:.2f}\")\n",
    "    finally:\n",
    "        print(\"Avslutar beräkning.\")\n",
    "\n",
    "# Exempelanrop\n",
    "safe_division()"
   ]
  },
  {
   "cell_type": "markdown",
   "id": "069b6e31-8faa-4550-9cb6-5300c6129167",
   "metadata": {},
   "source": [
    "4. Skapa en funktion \"add_two_small_numbers\" som adderar två tal. Om något av talen är större än 100 så skall du lyfta en exception och skriva ut meddelandet \"both numbers must be smaller than or equal to 100\". "
   ]
  },
  {
   "cell_type": "code",
   "execution_count": 7,
   "id": "1d61210b-b661-46f7-ba28-6da36d56af50",
   "metadata": {},
   "outputs": [
    {
     "name": "stdout",
     "output_type": "stream",
     "text": [
      "30\n",
      "100\n",
      "Caught error: both numbers must be smaller than or equal to 100\n"
     ]
    }
   ],
   "source": [
    "def add_two_small_numbers(a, b):\n",
    "    \"\"\"\n",
    "    Returnerar summan av a och b om båda talen är <= 100.\n",
    "    Annars kastas ValueError med ett tydligt felmeddelande.\n",
    "    \"\"\"\n",
    "    if a > 100 or b > 100:\n",
    "        raise ValueError(\"both numbers must be smaller than or equal to 100\")\n",
    "    return a + b\n",
    "\n",
    "print(add_two_small_numbers(10, 20))  \n",
    "print(add_two_small_numbers(100, 0))  \n",
    "\n",
    "try:\n",
    "    print(add_two_small_numbers(150, 5))\n",
    "except ValueError as e:\n",
    "    print(\"Caught error:\", e)"
   ]
  },
  {
   "cell_type": "markdown",
   "id": "6b852c0d-dd8b-4baa-8ce5-7d756b45e226",
   "metadata": {},
   "source": [
    "5. Din kollega, som är en skicklig programmerare, brukar innan hon försöker göra ett perfekt fungerande program testa olika ideér för att undersöka och lära sig mer om det problem hon försöker lösa. Nedan ser du ett av hennes skript som gjorts i syfte att undersöka och lära sig mer. Förklara vad det är hon gjort. "
   ]
  },
  {
   "cell_type": "code",
   "execution_count": 8,
   "id": "b8136f69-af5b-4951-a185-fb73eb5e2e8a",
   "metadata": {},
   "outputs": [
    {
     "name": "stdout",
     "output_type": "stream",
     "text": [
      "<class 'TypeError'>\n",
      "unsupported operand type(s) for +: 'int' and 'str'\n"
     ]
    }
   ],
   "source": [
    "# Checking which exception is raised\n",
    "try:\n",
    "    5 + \"Python is fun!\"\n",
    "except Exception as exception_instance:\n",
    "    print(type(exception_instance))\n",
    "    print(exception_instance)"
   ]
  },
  {
   "cell_type": "code",
   "execution_count": 9,
   "id": "c5f5d5f5-4503-4e71-9b90-e97cc1205bae",
   "metadata": {},
   "outputs": [
    {
     "name": "stdout",
     "output_type": "stream",
     "text": [
      "<class 'ZeroDivisionError'>\n",
      "division by zero\n"
     ]
    }
   ],
   "source": [
    "# Checking which exception is raised\n",
    "try:\n",
    "    5/0\n",
    "except Exception as exception_instance:\n",
    "    print(type(exception_instance))\n",
    "    print(exception_instance)"
   ]
  },
  {
   "cell_type": "markdown",
   "id": "8ab456b2",
   "metadata": {},
   "source": [
    "ser hon exakt vilken klass undantaget har och vilket meddelande Python själva genererar."
   ]
  },
  {
   "cell_type": "code",
   "execution_count": 10,
   "id": "31c642ee-60af-42cb-9658-5a5752782ed6",
   "metadata": {},
   "outputs": [],
   "source": [
    "def add_two_numbers(a, b):\n",
    "    try:\n",
    "        return(a/b)\n",
    "    except TypeError:\n",
    "        print(\"Both arguments must be numbers.\")\n",
    "    except ZeroDivisionError:\n",
    "        print(\"Division by zero is not defined.\")        "
   ]
  },
  {
   "cell_type": "code",
   "execution_count": 11,
   "id": "d4f76310-41bb-4f99-9ed8-e5eacef3cfe4",
   "metadata": {},
   "outputs": [
    {
     "name": "stdout",
     "output_type": "stream",
     "text": [
      "2.5\n",
      "Both arguments must be numbers.\n",
      "None\n",
      "Division by zero is not defined.\n",
      "None\n"
     ]
    }
   ],
   "source": [
    "# Testing so the functionality is as expected\n",
    "print(add_two_numbers(5, 2))\n",
    "print(add_two_numbers(5, \"hello\"))\n",
    "print(add_two_numbers(5, 0))"
   ]
  },
  {
   "cell_type": "markdown",
   "id": "752ee48c",
   "metadata": {},
   "source": [
    "– Hon har använt “provkörningar” med try/except Exception as … för att ta reda på vilka undantag (klass + text) som Python ger i olika felsituationer.\n",
    "– Sedan har hon implementerat en funktion som fångar just dessa undantagstyper och ger egna, mer användar­vänliga felmeddelanden."
   ]
  }
 ],
 "metadata": {
  "kernelspec": {
   "display_name": "Python (.venv)",
   "language": "python",
   "name": "exercises"
  },
  "language_info": {
   "codemirror_mode": {
    "name": "ipython",
    "version": 3
   },
   "file_extension": ".py",
   "mimetype": "text/x-python",
   "name": "python",
   "nbconvert_exporter": "python",
   "pygments_lexer": "ipython3",
   "version": "3.13.3"
  }
 },
 "nbformat": 4,
 "nbformat_minor": 5
}
