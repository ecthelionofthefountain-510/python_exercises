{
 "cells": [
  {
   "cell_type": "markdown",
   "id": "99fdf965-6382-4144-b08f-30fea759de05",
   "metadata": {},
   "source": [
    "# Uppgifter, Kapitel 10 - Moduler och paket"
   ]
  },
  {
   "cell_type": "markdown",
   "id": "0bcaacd2-e69e-4a2c-85b0-fc1bc83353e2",
   "metadata": {},
   "source": [
    "1. Vad är en modul och hur kan en sådan användas i andra filer? "
   ]
  },
  {
   "cell_type": "markdown",
   "id": "f02bd910",
   "metadata": {},
   "source": [
    "En modul är en fil med Python-kod (ändelsen .py) som definierar funktioner, klasser och variabler. Genom att importera en modul kan du återanvända kod utan att kopiera in allt i varje fil."
   ]
  },
  {
   "cell_type": "markdown",
   "id": "f68d3418-d82f-4a68-b606-a3f320683979",
   "metadata": {},
   "source": [
    "2. a) Importera modulen \"math\" från \"The Python Standard Library\": https://docs.python.org/3/library/index.html utan att använda aliasing.\n",
    "   \n",
    "   b) Skriv help(math.ceil). Förstår du vad \"ceil()\" funktionen gör?\n",
    "\n",
    "   c) Skriv math.ceil(10.2), vad får du för svar och varför?\n",
    "\n",
    "   d) Skriv math.ceil(9.8), vad får du för svar och varför? "
   ]
  },
  {
   "cell_type": "code",
   "execution_count": 1,
   "id": "09dea5fb-7a11-47d2-912f-e07e90de54f5",
   "metadata": {},
   "outputs": [],
   "source": [
    "import math"
   ]
  },
  {
   "cell_type": "code",
   "execution_count": 2,
   "id": "bb645efb",
   "metadata": {},
   "outputs": [
    {
     "name": "stdout",
     "output_type": "stream",
     "text": [
      "Help on built-in function ceil in module math:\n",
      "\n",
      "ceil(x, /)\n",
      "    Return the ceiling of x as an Integral.\n",
      "\n",
      "    This is the smallest integer >= x.\n",
      "\n"
     ]
    }
   ],
   "source": [
    "help(math.ceil)"
   ]
  },
  {
   "cell_type": "markdown",
   "id": "6b92a490",
   "metadata": {},
   "source": [
    "Avrundar upp till närmaste heltal"
   ]
  },
  {
   "cell_type": "code",
   "execution_count": 3,
   "id": "190ea75f",
   "metadata": {},
   "outputs": [
    {
     "data": {
      "text/plain": [
       "11"
      ]
     },
     "execution_count": 3,
     "metadata": {},
     "output_type": "execute_result"
    }
   ],
   "source": [
    "math.ceil(10.2)"
   ]
  },
  {
   "cell_type": "markdown",
   "id": "d4a2e1de",
   "metadata": {},
   "source": [
    "math.ceil(10.2) ger 11 eftersom 10.2 avrundas uppåt till 11."
   ]
  },
  {
   "cell_type": "code",
   "execution_count": 4,
   "id": "a690868a",
   "metadata": {},
   "outputs": [
    {
     "data": {
      "text/plain": [
       "10"
      ]
     },
     "execution_count": 4,
     "metadata": {},
     "output_type": "execute_result"
    }
   ],
   "source": [
    "math.ceil(9.8)"
   ]
  },
  {
   "cell_type": "markdown",
   "id": "0cbe4a54",
   "metadata": {},
   "source": [
    "math.ceil(9.8) ger 10 av samma anledning: närmaste heltal på eller över 9.8 är 10."
   ]
  },
  {
   "cell_type": "markdown",
   "id": "d6a8bb81-a567-4a38-8972-1e658fd547fa",
   "metadata": {},
   "source": [
    "3. Bygg en egen modul som till exempel innehåller två funktioner, importera därefter denna modulen i ett annat skript och prova använd de två funktionerna. Notera att modulen du bygger skall skrivas i ett \"vanligt skript\" (en .py fil) och inte i en jupyter notebook fil (.ipynb). Du kan däremot importera modulen (.py filen) i en jupyter notebook (.ipynb fil).\n",
    "  \n",
    "   Om du önskar importera en jupyter notebook (.ipynb fil) till en annan jupyter notebook (.ipynb fil) så kan du kolla igenom följande smidiga paket: https://pypi.org/project/import-ipynb/ ."
   ]
  }
 ],
 "metadata": {
  "kernelspec": {
   "display_name": "Python (.venv)",
   "language": "python",
   "name": "exercises"
  },
  "language_info": {
   "codemirror_mode": {
    "name": "ipython",
    "version": 3
   },
   "file_extension": ".py",
   "mimetype": "text/x-python",
   "name": "python",
   "nbconvert_exporter": "python",
   "pygments_lexer": "ipython3",
   "version": "3.13.3"
  }
 },
 "nbformat": 4,
 "nbformat_minor": 5
}
